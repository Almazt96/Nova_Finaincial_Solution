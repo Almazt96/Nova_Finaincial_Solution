{
 "cells": [
  {
   "cell_type": "code",
   "execution_count": 49,
   "metadata": {},
   "outputs": [],
   "source": [
    "import pandas as pd"
   ]
  },
  {
   "cell_type": "code",
   "execution_count": 34,
   "metadata": {},
   "outputs": [],
   "source": [
    "news_data =  pd.read_csv(\"../data/raw/raw_analyst_ratings.csv\")"
   ]
  },
  {
   "cell_type": "code",
   "execution_count": 35,
   "metadata": {},
   "outputs": [
    {
     "data": {
      "text/html": [
       "<div>\n",
       "<style scoped>\n",
       "    .dataframe tbody tr th:only-of-type {\n",
       "        vertical-align: middle;\n",
       "    }\n",
       "\n",
       "    .dataframe tbody tr th {\n",
       "        vertical-align: top;\n",
       "    }\n",
       "\n",
       "    .dataframe thead th {\n",
       "        text-align: right;\n",
       "    }\n",
       "</style>\n",
       "<table border=\"1\" class=\"dataframe\">\n",
       "  <thead>\n",
       "    <tr style=\"text-align: right;\">\n",
       "      <th></th>\n",
       "      <th>Unnamed: 0</th>\n",
       "      <th>headline</th>\n",
       "      <th>url</th>\n",
       "      <th>publisher</th>\n",
       "      <th>date</th>\n",
       "      <th>stock</th>\n",
       "    </tr>\n",
       "  </thead>\n",
       "  <tbody>\n",
       "    <tr>\n",
       "      <th>0</th>\n",
       "      <td>0</td>\n",
       "      <td>Stocks That Hit 52-Week Highs On Friday</td>\n",
       "      <td>https://www.benzinga.com/news/20/06/16190091/s...</td>\n",
       "      <td>Benzinga Insights</td>\n",
       "      <td>2020-06-05 10:30:54-04:00</td>\n",
       "      <td>A</td>\n",
       "    </tr>\n",
       "    <tr>\n",
       "      <th>1</th>\n",
       "      <td>1</td>\n",
       "      <td>Stocks That Hit 52-Week Highs On Wednesday</td>\n",
       "      <td>https://www.benzinga.com/news/20/06/16170189/s...</td>\n",
       "      <td>Benzinga Insights</td>\n",
       "      <td>2020-06-03 10:45:20-04:00</td>\n",
       "      <td>A</td>\n",
       "    </tr>\n",
       "    <tr>\n",
       "      <th>2</th>\n",
       "      <td>2</td>\n",
       "      <td>71 Biggest Movers From Friday</td>\n",
       "      <td>https://www.benzinga.com/news/20/05/16103463/7...</td>\n",
       "      <td>Lisa Levin</td>\n",
       "      <td>2020-05-26 04:30:07-04:00</td>\n",
       "      <td>A</td>\n",
       "    </tr>\n",
       "    <tr>\n",
       "      <th>3</th>\n",
       "      <td>3</td>\n",
       "      <td>46 Stocks Moving In Friday's Mid-Day Session</td>\n",
       "      <td>https://www.benzinga.com/news/20/05/16095921/4...</td>\n",
       "      <td>Lisa Levin</td>\n",
       "      <td>2020-05-22 12:45:06-04:00</td>\n",
       "      <td>A</td>\n",
       "    </tr>\n",
       "    <tr>\n",
       "      <th>4</th>\n",
       "      <td>4</td>\n",
       "      <td>B of A Securities Maintains Neutral on Agilent...</td>\n",
       "      <td>https://www.benzinga.com/news/20/05/16095304/b...</td>\n",
       "      <td>Vick Meyer</td>\n",
       "      <td>2020-05-22 11:38:59-04:00</td>\n",
       "      <td>A</td>\n",
       "    </tr>\n",
       "  </tbody>\n",
       "</table>\n",
       "</div>"
      ],
      "text/plain": [
       "   Unnamed: 0                                           headline  \\\n",
       "0           0            Stocks That Hit 52-Week Highs On Friday   \n",
       "1           1         Stocks That Hit 52-Week Highs On Wednesday   \n",
       "2           2                      71 Biggest Movers From Friday   \n",
       "3           3       46 Stocks Moving In Friday's Mid-Day Session   \n",
       "4           4  B of A Securities Maintains Neutral on Agilent...   \n",
       "\n",
       "                                                 url          publisher  \\\n",
       "0  https://www.benzinga.com/news/20/06/16190091/s...  Benzinga Insights   \n",
       "1  https://www.benzinga.com/news/20/06/16170189/s...  Benzinga Insights   \n",
       "2  https://www.benzinga.com/news/20/05/16103463/7...         Lisa Levin   \n",
       "3  https://www.benzinga.com/news/20/05/16095921/4...         Lisa Levin   \n",
       "4  https://www.benzinga.com/news/20/05/16095304/b...         Vick Meyer   \n",
       "\n",
       "                        date stock  \n",
       "0  2020-06-05 10:30:54-04:00     A  \n",
       "1  2020-06-03 10:45:20-04:00     A  \n",
       "2  2020-05-26 04:30:07-04:00     A  \n",
       "3  2020-05-22 12:45:06-04:00     A  \n",
       "4  2020-05-22 11:38:59-04:00     A  "
      ]
     },
     "execution_count": 35,
     "metadata": {},
     "output_type": "execute_result"
    }
   ],
   "source": [
    "news_data.head()"
   ]
  },
  {
   "cell_type": "code",
   "execution_count": 36,
   "metadata": {},
   "outputs": [],
   "source": [
    "import yfinance as yf"
   ]
  },
  {
   "cell_type": "code",
   "execution_count": 37,
   "metadata": {},
   "outputs": [
    {
     "name": "stderr",
     "output_type": "stream",
     "text": [
      "[*********************100%***********************]  1 of 1 completed\n"
     ]
    }
   ],
   "source": [
    "# Download stock data for Apple (AAPL) from 2020-01-01 to the present\n",
    "stock_data = yf.download('AAPL', start='2020-01-01', end='2024-01-01')"
   ]
  },
  {
   "cell_type": "code",
   "execution_count": 38,
   "metadata": {},
   "outputs": [
    {
     "name": "stdout",
     "output_type": "stream",
     "text": [
      "Price       Adj Close      Close       High        Low       Open     Volume\n",
      "Ticker           AAPL       AAPL       AAPL       AAPL       AAPL       AAPL\n",
      "Date                                                                        \n",
      "2020-01-02  72.796021  75.087502  75.150002  73.797501  74.059998  135480400\n",
      "2020-01-03  72.088310  74.357498  75.144997  74.125000  74.287498  146322800\n",
      "2020-01-06  72.662704  74.949997  74.989998  73.187500  73.447502  118387200\n",
      "2020-01-07  72.320984  74.597504  75.224998  74.370003  74.959999  108872000\n",
      "2020-01-08  73.484344  75.797501  76.110001  74.290001  74.290001  132079200\n"
     ]
    }
   ],
   "source": [
    "# Display the first few rows of the data\n",
    "print(stock_data.head())"
   ]
  },
  {
   "cell_type": "code",
   "execution_count": 39,
   "metadata": {},
   "outputs": [
    {
     "name": "stdout",
     "output_type": "stream",
     "text": [
      "count     4.000000\n",
      "mean     20.750000\n",
      "std       7.135592\n",
      "min      15.000000\n",
      "25%      16.500000\n",
      "50%      18.500000\n",
      "75%      22.750000\n",
      "max      31.000000\n",
      "Name: headline_length, dtype: float64\n"
     ]
    }
   ],
   "source": [
    "import pandas as pd\n",
    "\n",
    "\"\"\" Descriptive Statistics:\n",
    "•\tTextual Lengths:\n",
    "o\tCalculate headline lengths (number of characters and words). \"\"\"\n",
    "\n",
    "# Example DataFrame initialization (adjust according to your actual data)\n",
    "data = {\n",
    "    'headline': ['Stock market crashes', 'Tech stock surges', 'Oil prices soar', 'Government announces new policy']\n",
    "}\n",
    "\n",
    "df = pd.DataFrame(data)\n",
    "\n",
    "df['headline_length'] = df['headline'].apply(len)\n",
    "print(df['headline_length'].describe())\n"
   ]
  },
  {
   "cell_type": "code",
   "execution_count": 40,
   "metadata": {},
   "outputs": [
    {
     "data": {
      "text/plain": [
       "\" def get_sentiment(text):\\n    return TextBlob(text).sentiment.polarity\\n\\ndf['sentiment'] = df['headline'].apply(get_sentiment) \""
      ]
     },
     "execution_count": 40,
     "metadata": {},
     "output_type": "execute_result"
    }
   ],
   "source": [
    "\"\"\" Text Analysis:\n",
    "•\tSentiment Analysis:\n",
    "o\tUse libraries like TextBlob or nltk for sentiment scoring (positive, negative, neutral). \"\"\"\n",
    "\n",
    "# from textblob import TextBlob\n",
    "\n",
    "\"\"\" def get_sentiment(text):\n",
    "    return TextBlob(text).sentiment.polarity\n",
    "\n",
    "df['sentiment'] = df['headline'].apply(get_sentiment) \"\"\"\n"
   ]
  },
  {
   "cell_type": "code",
   "execution_count": 41,
   "metadata": {},
   "outputs": [
    {
     "data": {
      "text/plain": [
       "' from gensim import corpora\\nfrom gensim.models import LdaModel '"
      ]
     },
     "execution_count": 41,
     "metadata": {},
     "output_type": "execute_result"
    }
   ],
   "source": [
    "\n",
    "\"\"\" •\tTopic Modeling:\n",
    "o\tPerform keyword extraction or topic modeling using gensim. \"\"\"\n",
    "\n",
    "\"\"\" from gensim import corpora\n",
    "from gensim.models import LdaModel \"\"\"\n"
   ]
  },
  {
   "cell_type": "code",
   "execution_count": 42,
   "metadata": {},
   "outputs": [
    {
     "data": {
      "text/plain": [
       "' from gensim import corpora\\nfrom gensim.models import LdaModel '"
      ]
     },
     "execution_count": 42,
     "metadata": {},
     "output_type": "execute_result"
    }
   ],
   "source": [
    "\"\"\" •\tTopic Modeling:\n",
    "o\tPerform keyword extraction or topic modeling using gensim. \"\"\"\n",
    "\n",
    "\"\"\" from gensim import corpora\n",
    "from gensim.models import LdaModel \"\"\"\n"
   ]
  },
  {
   "cell_type": "code",
   "execution_count": 50,
   "metadata": {},
   "outputs": [
    {
     "name": "stdout",
     "output_type": "stream",
     "text": [
      "Index(['headline', 'headline_length'], dtype='object')\n"
     ]
    }
   ],
   "source": [
    "\"\"\" Time Series Analysis:\n",
    "•\tPublication Frequency Over Time:\n",
    "o\tPlot a time series graph of article counts by day/week. \"\"\"\n",
    "\n",
    "# df['date'].groupby(df['date'].dt.to_period('M')).count().plot()\n",
    "print(df.columns)\n",
    "df.columns = df.columns.str.strip()"
   ]
  },
  {
   "cell_type": "code",
   "execution_count": 58,
   "metadata": {},
   "outputs": [
    {
     "name": "stderr",
     "output_type": "stream",
     "text": [
      "<>:7: SyntaxWarning: invalid escape sequence '\\w'\n",
      "<>:7: SyntaxWarning: invalid escape sequence '\\w'\n",
      "C:\\Users\\Almazt\\AppData\\Local\\Temp\\ipykernel_26920\\1132307068.py:7: SyntaxWarning: invalid escape sequence '\\w'\n",
      "  \"\"\" import re\n"
     ]
    },
    {
     "data": {
      "text/plain": [
       "\" import re\\ndf['domain'] = df['publisher'].apply(lambda x: re.findall(r'@(\\\\w+\\\\.\\\\w+)', x)[0] if '@' in x else x)\\nprint(df['domain'].value_counts()) \""
      ]
     },
     "execution_count": 58,
     "metadata": {},
     "output_type": "execute_result"
    }
   ],
   "source": [
    "\"\"\" Publisher Analysis:\n",
    "•\tTop Publishers:\n",
    "o\tIdentify publishers contributing most to the news feed.\n",
    "•\tDomain Analysis:\n",
    "o\tExtract domains from email-like publisher names using regex: \"\"\"\n",
    "\n",
    "\"\"\" import re\n",
    "df['domain'] = df['publisher'].apply(lambda x: re.findall(r'@(\\w+\\.\\w+)', x)[0] if '@' in x else x)\n",
    "print(df['domain'].value_counts()) \"\"\"\n"
   ]
  }
 ],
 "metadata": {
  "kernelspec": {
   "display_name": "Python 3",
   "language": "python",
   "name": "python3"
  },
  "language_info": {
   "codemirror_mode": {
    "name": "ipython",
    "version": 3
   },
   "file_extension": ".py",
   "mimetype": "text/x-python",
   "name": "python",
   "nbconvert_exporter": "python",
   "pygments_lexer": "ipython3",
   "version": "3.13.1"
  }
 },
 "nbformat": 4,
 "nbformat_minor": 2
}
